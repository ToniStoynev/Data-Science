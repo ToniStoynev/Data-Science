{
 "cells": [
  {
   "cell_type": "code",
   "execution_count": 1,
   "id": "7710c572-05a9-46d5-9d8a-8374d709fe66",
   "metadata": {},
   "outputs": [],
   "source": [
    "%matplotlib inline"
   ]
  },
  {
   "cell_type": "code",
   "execution_count": 2,
   "id": "3d8d9cac-0c85-4042-b3b2-6606df3198a9",
   "metadata": {},
   "outputs": [],
   "source": [
    "import numpy as np\n",
    "import matplotlib.pyplot as plt\n",
    "import pandas as pd"
   ]
  },
  {
   "cell_type": "markdown",
   "id": "7cbbadff-d3d8-40e4-809a-16d8e1dbcdcf",
   "metadata": {},
   "source": [
    "# Data Acquisition\n",
    "\n",
    "## Live Demos"
   ]
  },
  {
   "cell_type": "code",
   "execution_count": 3,
   "id": "93eea501-d623-401a-96e5-b73d2d1da7b6",
   "metadata": {},
   "outputs": [],
   "source": [
    "books_data = pd.read_csv(\"data/Books.csv\", na_values = [\"Unknown\", \"No rating\"])"
   ]
  },
  {
   "cell_type": "code",
   "execution_count": 4,
   "id": "6d1bda08-21f5-47b5-8d4f-c7400bf9fc0b",
   "metadata": {},
   "outputs": [
    {
     "data": {
      "text/html": [
       "<div>\n",
       "<style scoped>\n",
       "    .dataframe tbody tr th:only-of-type {\n",
       "        vertical-align: middle;\n",
       "    }\n",
       "\n",
       "    .dataframe tbody tr th {\n",
       "        vertical-align: top;\n",
       "    }\n",
       "\n",
       "    .dataframe thead th {\n",
       "        text-align: right;\n",
       "    }\n",
       "</style>\n",
       "<table border=\"1\" class=\"dataframe\">\n",
       "  <thead>\n",
       "    <tr style=\"text-align: right;\">\n",
       "      <th></th>\n",
       "      <th>title</th>\n",
       "      <th>author</th>\n",
       "      <th>pages</th>\n",
       "      <th>genre</th>\n",
       "      <th>description</th>\n",
       "      <th>published_date</th>\n",
       "      <th>publisher</th>\n",
       "      <th>language</th>\n",
       "      <th>average_rating</th>\n",
       "      <th>ratings_count</th>\n",
       "      <th>thumbnail</th>\n",
       "    </tr>\n",
       "  </thead>\n",
       "  <tbody>\n",
       "    <tr>\n",
       "      <th>0</th>\n",
       "      <td>Fictional Points of View</td>\n",
       "      <td>Peter Lamarque</td>\n",
       "      <td>252.0</td>\n",
       "      <td>Literary Criticism</td>\n",
       "      <td>The volume focuses on a wide range of thinkers...</td>\n",
       "      <td>1996</td>\n",
       "      <td>Cornell University Press</td>\n",
       "      <td>en</td>\n",
       "      <td>NaN</td>\n",
       "      <td>0</td>\n",
       "      <td>http://books.google.com/books/content?id=rh-om...</td>\n",
       "    </tr>\n",
       "    <tr>\n",
       "      <th>1</th>\n",
       "      <td>Science Fiction and Fantasy Literature</td>\n",
       "      <td>R. Reginald, Douglas Menville, Mary A. Burgess</td>\n",
       "      <td>802.0</td>\n",
       "      <td>Reference</td>\n",
       "      <td>Science Fiction and Fantasy Literature, A Chec...</td>\n",
       "      <td>2010-09-01</td>\n",
       "      <td>Wildside Press LLC</td>\n",
       "      <td>en</td>\n",
       "      <td>NaN</td>\n",
       "      <td>0</td>\n",
       "      <td>http://books.google.com/books/content?id=P8zW2...</td>\n",
       "    </tr>\n",
       "    <tr>\n",
       "      <th>2</th>\n",
       "      <td>Library of Congress Subject Headings</td>\n",
       "      <td>Library of Congress. Cataloging Policy and Sup...</td>\n",
       "      <td>1662.0</td>\n",
       "      <td>Subject headings, Library of Congress</td>\n",
       "      <td>No description available</td>\n",
       "      <td>2004</td>\n",
       "      <td>Unknown Publisher</td>\n",
       "      <td>en</td>\n",
       "      <td>NaN</td>\n",
       "      <td>0</td>\n",
       "      <td>http://books.google.com/books/content?id=pEhkh...</td>\n",
       "    </tr>\n",
       "    <tr>\n",
       "      <th>3</th>\n",
       "      <td>Library of Congress Subject Headings</td>\n",
       "      <td>Library of Congress</td>\n",
       "      <td>1512.0</td>\n",
       "      <td>Subject headings, Library of Congress</td>\n",
       "      <td>No description available</td>\n",
       "      <td>2007</td>\n",
       "      <td>Unknown Publisher</td>\n",
       "      <td>en</td>\n",
       "      <td>NaN</td>\n",
       "      <td>0</td>\n",
       "      <td>http://books.google.com/books/content?id=FgAjF...</td>\n",
       "    </tr>\n",
       "    <tr>\n",
       "      <th>4</th>\n",
       "      <td>Fictional Space in the Modernist and Post-mode...</td>\n",
       "      <td>Carl Darryl Malmgren</td>\n",
       "      <td>248.0</td>\n",
       "      <td>Fiction</td>\n",
       "      <td>Fictional space is the imaginal expanse of fie...</td>\n",
       "      <td>1985</td>\n",
       "      <td>Bucknell University Press</td>\n",
       "      <td>en</td>\n",
       "      <td>NaN</td>\n",
       "      <td>0</td>\n",
       "      <td>http://books.google.com/books/content?id=KXzoz...</td>\n",
       "    </tr>\n",
       "    <tr>\n",
       "      <th>...</th>\n",
       "      <td>...</td>\n",
       "      <td>...</td>\n",
       "      <td>...</td>\n",
       "      <td>...</td>\n",
       "      <td>...</td>\n",
       "      <td>...</td>\n",
       "      <td>...</td>\n",
       "      <td>...</td>\n",
       "      <td>...</td>\n",
       "      <td>...</td>\n",
       "      <td>...</td>\n",
       "    </tr>\n",
       "    <tr>\n",
       "      <th>2044</th>\n",
       "      <td>The Index Card</td>\n",
       "      <td>Helaine Olen, Harold Pollack</td>\n",
       "      <td>256.0</td>\n",
       "      <td>Personal Finance</td>\n",
       "      <td>Simplifies personal finance to ten rules that ...</td>\n",
       "      <td>2016-01-05</td>\n",
       "      <td>Portfolio</td>\n",
       "      <td>en</td>\n",
       "      <td>4.0</td>\n",
       "      <td>30000</td>\n",
       "      <td>http://books.google.com/books/content?id=8z4_D...</td>\n",
       "    </tr>\n",
       "    <tr>\n",
       "      <th>2045</th>\n",
       "      <td>The Road to Wealth</td>\n",
       "      <td>Suze Orman</td>\n",
       "      <td>608.0</td>\n",
       "      <td>Personal Finance</td>\n",
       "      <td>A comprehensive guide to managing money, inves...</td>\n",
       "      <td>2001-04-01</td>\n",
       "      <td>Riverhead Books</td>\n",
       "      <td>en</td>\n",
       "      <td>4.1</td>\n",
       "      <td>50000</td>\n",
       "      <td>http://books.google.com/books/content?id=zv0oD...</td>\n",
       "    </tr>\n",
       "    <tr>\n",
       "      <th>2046</th>\n",
       "      <td>The Success Principles</td>\n",
       "      <td>Jack Canfield</td>\n",
       "      <td>512.0</td>\n",
       "      <td>Self-Help</td>\n",
       "      <td>A guide to achieving personal and financial su...</td>\n",
       "      <td>2004-12-28</td>\n",
       "      <td>HarperCollins</td>\n",
       "      <td>en</td>\n",
       "      <td>4.2</td>\n",
       "      <td>100000</td>\n",
       "      <td>http://books.google.com/books/content?id=7zL_D...</td>\n",
       "    </tr>\n",
       "    <tr>\n",
       "      <th>2047</th>\n",
       "      <td>The Courage to Be Rich</td>\n",
       "      <td>Suze Orman</td>\n",
       "      <td>448.0</td>\n",
       "      <td>Personal Finance</td>\n",
       "      <td>Combines emotional and practical advice for bu...</td>\n",
       "      <td>1999-03-01</td>\n",
       "      <td>Riverhead Books</td>\n",
       "      <td>en</td>\n",
       "      <td>4.0</td>\n",
       "      <td>40000</td>\n",
       "      <td>http://books.google.com/books/content?id=2c3_D...</td>\n",
       "    </tr>\n",
       "    <tr>\n",
       "      <th>2048</th>\n",
       "      <td>The Money Manual</td>\n",
       "      <td>Tonya Rapley</td>\n",
       "      <td>256.0</td>\n",
       "      <td>Personal Finance</td>\n",
       "      <td>A millennial-focused guide to budgeting, savin...</td>\n",
       "      <td>2023-05-16</td>\n",
       "      <td>Adams Media</td>\n",
       "      <td>en</td>\n",
       "      <td>4.2</td>\n",
       "      <td>20000</td>\n",
       "      <td>http://books.google.com/books/content?id=3z3_D...</td>\n",
       "    </tr>\n",
       "  </tbody>\n",
       "</table>\n",
       "<p>2049 rows × 11 columns</p>\n",
       "</div>"
      ],
      "text/plain": [
       "                                                  title  \\\n",
       "0                              Fictional Points of View   \n",
       "1                Science Fiction and Fantasy Literature   \n",
       "2                  Library of Congress Subject Headings   \n",
       "3                  Library of Congress Subject Headings   \n",
       "4     Fictional Space in the Modernist and Post-mode...   \n",
       "...                                                 ...   \n",
       "2044                                     The Index Card   \n",
       "2045                                 The Road to Wealth   \n",
       "2046                             The Success Principles   \n",
       "2047                             The Courage to Be Rich   \n",
       "2048                                   The Money Manual   \n",
       "\n",
       "                                                 author   pages  \\\n",
       "0                                        Peter Lamarque   252.0   \n",
       "1        R. Reginald, Douglas Menville, Mary A. Burgess   802.0   \n",
       "2     Library of Congress. Cataloging Policy and Sup...  1662.0   \n",
       "3                                   Library of Congress  1512.0   \n",
       "4                                  Carl Darryl Malmgren   248.0   \n",
       "...                                                 ...     ...   \n",
       "2044                       Helaine Olen, Harold Pollack   256.0   \n",
       "2045                                         Suze Orman   608.0   \n",
       "2046                                      Jack Canfield   512.0   \n",
       "2047                                         Suze Orman   448.0   \n",
       "2048                                       Tonya Rapley   256.0   \n",
       "\n",
       "                                      genre  \\\n",
       "0                        Literary Criticism   \n",
       "1                                 Reference   \n",
       "2     Subject headings, Library of Congress   \n",
       "3     Subject headings, Library of Congress   \n",
       "4                                   Fiction   \n",
       "...                                     ...   \n",
       "2044                       Personal Finance   \n",
       "2045                       Personal Finance   \n",
       "2046                              Self-Help   \n",
       "2047                       Personal Finance   \n",
       "2048                       Personal Finance   \n",
       "\n",
       "                                            description published_date  \\\n",
       "0     The volume focuses on a wide range of thinkers...           1996   \n",
       "1     Science Fiction and Fantasy Literature, A Chec...     2010-09-01   \n",
       "2                              No description available           2004   \n",
       "3                              No description available           2007   \n",
       "4     Fictional space is the imaginal expanse of fie...           1985   \n",
       "...                                                 ...            ...   \n",
       "2044  Simplifies personal finance to ten rules that ...     2016-01-05   \n",
       "2045  A comprehensive guide to managing money, inves...     2001-04-01   \n",
       "2046  A guide to achieving personal and financial su...     2004-12-28   \n",
       "2047  Combines emotional and practical advice for bu...     1999-03-01   \n",
       "2048  A millennial-focused guide to budgeting, savin...     2023-05-16   \n",
       "\n",
       "                      publisher language  average_rating  ratings_count  \\\n",
       "0      Cornell University Press       en             NaN              0   \n",
       "1            Wildside Press LLC       en             NaN              0   \n",
       "2             Unknown Publisher       en             NaN              0   \n",
       "3             Unknown Publisher       en             NaN              0   \n",
       "4     Bucknell University Press       en             NaN              0   \n",
       "...                         ...      ...             ...            ...   \n",
       "2044                  Portfolio       en             4.0          30000   \n",
       "2045            Riverhead Books       en             4.1          50000   \n",
       "2046              HarperCollins       en             4.2         100000   \n",
       "2047            Riverhead Books       en             4.0          40000   \n",
       "2048                Adams Media       en             4.2          20000   \n",
       "\n",
       "                                              thumbnail  \n",
       "0     http://books.google.com/books/content?id=rh-om...  \n",
       "1     http://books.google.com/books/content?id=P8zW2...  \n",
       "2     http://books.google.com/books/content?id=pEhkh...  \n",
       "3     http://books.google.com/books/content?id=FgAjF...  \n",
       "4     http://books.google.com/books/content?id=KXzoz...  \n",
       "...                                                 ...  \n",
       "2044  http://books.google.com/books/content?id=8z4_D...  \n",
       "2045  http://books.google.com/books/content?id=zv0oD...  \n",
       "2046  http://books.google.com/books/content?id=7zL_D...  \n",
       "2047  http://books.google.com/books/content?id=2c3_D...  \n",
       "2048  http://books.google.com/books/content?id=3z3_D...  \n",
       "\n",
       "[2049 rows x 11 columns]"
      ]
     },
     "execution_count": 4,
     "metadata": {},
     "output_type": "execute_result"
    }
   ],
   "source": [
    "books_data"
   ]
  },
  {
   "cell_type": "code",
   "execution_count": 5,
   "id": "efd83d22-69fa-46e9-907a-97eef5eae68e",
   "metadata": {},
   "outputs": [
    {
     "data": {
      "text/plain": [
       "(2049, 11)"
      ]
     },
     "execution_count": 5,
     "metadata": {},
     "output_type": "execute_result"
    }
   ],
   "source": [
    "books_data.shape"
   ]
  },
  {
   "cell_type": "code",
   "execution_count": 6,
   "id": "552ab374-a9ee-4c6c-8a21-3f4618bc36dc",
   "metadata": {},
   "outputs": [
    {
     "data": {
      "text/plain": [
       "title              object\n",
       "author             object\n",
       "pages             float64\n",
       "genre              object\n",
       "description        object\n",
       "published_date     object\n",
       "publisher          object\n",
       "language           object\n",
       "average_rating    float64\n",
       "ratings_count       int64\n",
       "thumbnail          object\n",
       "dtype: object"
      ]
     },
     "execution_count": 6,
     "metadata": {},
     "output_type": "execute_result"
    }
   ],
   "source": [
    "books_data.dtypes"
   ]
  },
  {
   "cell_type": "code",
   "execution_count": 7,
   "id": "a0d5ad52-40c5-492d-bc57-d0275244f2c0",
   "metadata": {},
   "outputs": [],
   "source": [
    "books_data.pages = books_data.pages.replace(\"Unknown\", np.nan)"
   ]
  },
  {
   "cell_type": "code",
   "execution_count": 8,
   "id": "16af0afa-5abd-4fdb-889d-365c036852f8",
   "metadata": {},
   "outputs": [
    {
     "data": {
      "image/png": "[encoded data removed]",
      "text/plain": [
       "<Figure size 640x480 with 1 Axes>"
      ]
     },
     "metadata": {},
     "output_type": "display_data"
    }
   ],
   "source": [
    "plt.hist(books_data.average_rating, bins = 15)\n",
    "plt.xlabel(\"Average ratings\")\n",
    "plt.ylabel(\"Count\")\n",
    "plt.show()"
   ]
  },
  {
   "cell_type": "code",
   "execution_count": 9,
   "id": "816321e9-2f5d-4180-8b60-e9fb418dba36",
   "metadata": {},
   "outputs": [
    {
     "data": {
      "text/plain": [
       "average_rating\n",
       "5.0    92\n",
       "4.0    62\n",
       "4.5    26\n",
       "3.0    21\n",
       "1.0    15\n",
       "3.5    14\n",
       "4.2    13\n",
       "4.1    12\n",
       "4.3    10\n",
       "2.0     6\n",
       "4.4     4\n",
       "2.5     3\n",
       "Name: count, dtype: int64"
      ]
     },
     "execution_count": 9,
     "metadata": {},
     "output_type": "execute_result"
    }
   ],
   "source": [
    "books_data.average_rating.value_counts()"
   ]
  }
 ],
 "metadata": {
  "kernelspec": {
   "display_name": "Python 3 (ipykernel)",
   "language": "python",
   "name": "python3"
  },
  "language_info": {
   "codemirror_mode": {
    "name": "ipython",
    "version": 3
   },
   "file_extension": ".py",
   "mimetype": "text/x-python",
   "name": "python",
   "nbconvert_exporter": "python",
   "pygments_lexer": "ipython3",
   "version": "3.11.7"
  }
 },
 "nbformat": 4,
 "nbformat_minor": 5
}
